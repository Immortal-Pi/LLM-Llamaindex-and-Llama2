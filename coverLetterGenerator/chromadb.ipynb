{
 "cells": [
  {
   "cell_type": "code",
   "execution_count": 1,
   "id": "36706d00-aa98-4b4e-9ac3-e03bab8be808",
   "metadata": {},
   "outputs": [],
   "source": [
    "# chromadb "
   ]
  },
  {
   "cell_type": "code",
   "execution_count": 9,
   "id": "a39bfd3e-b677-496c-a164-4766f7f2913e",
   "metadata": {},
   "outputs": [],
   "source": [
    "import chromadb\n",
    "\n",
    "client=chromadb.Client()\n",
    "collections=client.create_collection(name='my_collection')"
   ]
  },
  {
   "cell_type": "code",
   "execution_count": 11,
   "id": "9635a1ce-a1ad-49de-9a69-5446d18c383f",
   "metadata": {},
   "outputs": [
    {
     "name": "stderr",
     "output_type": "stream",
     "text": [
      "C:\\Users\\26amr\\.cache\\chroma\\onnx_models\\all-MiniLM-L6-v2\\onnx.tar.gz: 100%|████████████████████████████████████████████████████████████████| 79.3M/79.3M [00:15<00:00, 5.22MiB/s]\n"
     ]
    }
   ],
   "source": [
    "collections.add(\n",
    "    documents=[\n",
    "        'this document is about New York',\n",
    "        'This document is about Delhi',\n",
    "    ],\n",
    "    ids=['id1','id2']\n",
    ")"
   ]
  },
  {
   "cell_type": "code",
   "execution_count": 13,
   "id": "872f5b5f-4e1e-44d4-aef7-148d5de7ef5f",
   "metadata": {},
   "outputs": [
    {
     "data": {
      "text/plain": [
       "{'ids': ['id1', 'id2'],\n",
       " 'embeddings': None,\n",
       " 'metadatas': [None, None],\n",
       " 'documents': ['this document is about New York',\n",
       "  'This document is about Delhi'],\n",
       " 'uris': None,\n",
       " 'data': None,\n",
       " 'included': ['metadatas', 'documents']}"
      ]
     },
     "execution_count": 13,
     "metadata": {},
     "output_type": "execute_result"
    }
   ],
   "source": [
    "all_docs=collections.get()\n",
    "all_docs"
   ]
  },
  {
   "cell_type": "code",
   "execution_count": 15,
   "id": "82f8683a-eab2-4458-95d3-5769e8317290",
   "metadata": {},
   "outputs": [
    {
     "data": {
      "text/plain": [
       "{'ids': ['id1'],\n",
       " 'embeddings': None,\n",
       " 'metadatas': [None],\n",
       " 'documents': ['this document is about New York'],\n",
       " 'uris': None,\n",
       " 'data': None,\n",
       " 'included': ['metadatas', 'documents']}"
      ]
     },
     "execution_count": 15,
     "metadata": {},
     "output_type": "execute_result"
    }
   ],
   "source": [
    "# getting document by id\n",
    "collections.get(ids=['id1'])"
   ]
  },
  {
   "cell_type": "code",
   "execution_count": 39,
   "id": "3bd89ced-2376-4a67-b1b9-48e3e09efae3",
   "metadata": {},
   "outputs": [
    {
     "data": {
      "text/plain": [
       "{'ids': [['id1', 'id2']],\n",
       " 'distances': [[1.6312181949615479, 1.867558479309082]],\n",
       " 'metadatas': [[None, None]],\n",
       " 'embeddings': None,\n",
       " 'documents': [['this document is about New York',\n",
       "   'This document is about Delhi']],\n",
       " 'uris': None,\n",
       " 'data': None,\n",
       " 'included': ['metadatas', 'documents', 'distances']}"
      ]
     },
     "execution_count": 39,
     "metadata": {},
     "output_type": "execute_result"
    }
   ],
   "source": [
    "results=collections.query(\n",
    "    query_texts=['Query is about big apple'],\n",
    "    n_results=2\n",
    ")\n",
    "results"
   ]
  },
  {
   "cell_type": "code",
   "execution_count": null,
   "id": "881c3f9d-fb85-42c8-85ff-164349f680de",
   "metadata": {},
   "outputs": [],
   "source": [
    "# delete all the documents"
   ]
  }
 ],
 "metadata": {
  "kernelspec": {
   "display_name": "pytorch",
   "language": "python",
   "name": "pytorch"
  },
  "language_info": {
   "codemirror_mode": {
    "name": "ipython",
    "version": 3
   },
   "file_extension": ".py",
   "mimetype": "text/x-python",
   "name": "python",
   "nbconvert_exporter": "python",
   "pygments_lexer": "ipython3",
   "version": "3.9.19"
  }
 },
 "nbformat": 4,
 "nbformat_minor": 5
}
